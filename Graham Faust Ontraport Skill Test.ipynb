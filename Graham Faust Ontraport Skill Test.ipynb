{
 "cells": [
  {
   "cell_type": "code",
   "execution_count": 8,
   "metadata": {},
   "outputs": [
    {
     "name": "stdout",
     "output_type": "stream",
     "text": [
      "{'one/two': 3, 'one/four/0': 5, 'one/four/1': 6, 'one/four/2': 7, 'eight/nine/ten': 11}\n"
     ]
    }
   ],
   "source": [
    "#Question 1\n",
    "sample = {\n",
    "    'one':\n",
    "    {\n",
    "        'two': 3,\n",
    "        'four': [ 5,6,7]\n",
    "    },\n",
    "    'eight':\n",
    "    {\n",
    "        'nine':\n",
    "        {\n",
    "            'ten':11\n",
    "        }\n",
    "    }\n",
    "}\n",
    "def question1(dict1):\n",
    "    final = 0\n",
    "    dict1_copy = dict1.copy()\n",
    "    while (final==0):\n",
    "        dict1 = dict1_copy.copy()\n",
    "        final=1\n",
    "        for i in dict1:\n",
    "            if type(dict1[i])==dict:\n",
    "                final=0\n",
    "                for j in dict1[i]:\n",
    "                    dict1_copy[i+\"/\"+j]=dict1[i][j]\n",
    "                del dict1_copy[i]\n",
    "                break\n",
    "            elif type(dict1[i])==list:\n",
    "                final=0\n",
    "                index = 0\n",
    "                for j in dict1[i]:\n",
    "                    dict1_copy[i+\"/\"+str(index)]=j\n",
    "                    index+=1\n",
    "                del dict1_copy[i]\n",
    "                break\n",
    "    return dict1\n",
    "\n",
    "print(question1(sample))"
   ]
  },
  {
   "cell_type": "code",
   "execution_count": 11,
   "metadata": {},
   "outputs": [
    {
     "name": "stdout",
     "output_type": "stream",
     "text": [
      "{3: 'one/two', 5: 'one/four/0', 6: 'one/four/1', 7: 'one/four/2', 11: 'eight/nine/ten'}\n"
     ]
    }
   ],
   "source": [
    "#Question 2\n",
    "def question2(dict2):\n",
    "    answer = question1(dict2)\n",
    "    answer_copy = answer.copy()\n",
    "    for i in answer_copy:\n",
    "        answer[answer[i]]=i\n",
    "        del answer[i]\n",
    "    return answer\n",
    "\n",
    "print(question2(sample))"
   ]
  }
 ],
 "metadata": {
  "kernelspec": {
   "display_name": "Python 3",
   "language": "python",
   "name": "python3"
  },
  "language_info": {
   "codemirror_mode": {
    "name": "ipython",
    "version": 3
   },
   "file_extension": ".py",
   "mimetype": "text/x-python",
   "name": "python",
   "nbconvert_exporter": "python",
   "pygments_lexer": "ipython3",
   "version": "3.8.5"
  }
 },
 "nbformat": 4,
 "nbformat_minor": 4
}
